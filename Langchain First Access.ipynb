{
 "cells": [
  {
   "cell_type": "code",
   "execution_count": 1,
   "metadata": {},
   "outputs": [],
   "source": [
    "import os\n",
    "from dotenv import load_dotenv\n",
    "load_dotenv()\n",
    "\n",
    "import langchain"
   ]
  },
  {
   "cell_type": "markdown",
   "metadata": {},
   "source": [
    "### Langchain with Hugging Face"
   ]
  },
  {
   "cell_type": "code",
   "execution_count": 8,
   "metadata": {},
   "outputs": [],
   "source": [
    "HUGGINGFACEHUB_API_TOKEN = os.getenv('HUGGINGFACEHUB_API_TOKEN')"
   ]
  },
  {
   "cell_type": "code",
   "execution_count": 9,
   "metadata": {},
   "outputs": [],
   "source": [
    "from langchain_community.llms import HuggingFaceEndpoint"
   ]
  },
  {
   "cell_type": "code",
   "execution_count": 10,
   "metadata": {},
   "outputs": [
    {
     "name": "stdout",
     "output_type": "stream",
     "text": [
      "The token has not been saved to the git credentials helper. Pass `add_to_git_credential=True` in this function directly or `--add-to-git-credential` if using via `huggingface-cli` if you want to set the git credential as well.\n",
      "Token is valid (permission: read).\n",
      "Your token has been saved to /Users/jai/.cache/huggingface/token\n",
      "Login successful\n"
     ]
    }
   ],
   "source": [
    "llm = HuggingFaceEndpoint(repo_id = \"mistralai/Mistral-7B-Instruct-v0.2\")"
   ]
  },
  {
   "cell_type": "code",
   "execution_count": 11,
   "metadata": {},
   "outputs": [
    {
     "name": "stdout",
     "output_type": "stream",
     "text": [
      "\n",
      "\n",
      "Montreal is known for its vibrant nightlife scene, with a wide range of nightclubs catering to various tastes and preferences. Here are ten popular nightclubs in Montreal that you might want to consider checking out:\n",
      "\n",
      "1. Stereo: Located in the Plateau Mont-Royal neighborhood, Stereo is a multi-level nightclub known for its diverse music programming, which includes electronic music, hip hop, and indie rock. The club has multiple rooms, each with its unique atmosphere, and a rooftop terrace with a view of the city.\n",
      "2. New City Gas: This massive, multi-room nightclub in the Old Port area is a must-visit for electronic music fans. With a state-of-the-art sound system and a lineup of local and international DJs, New City Gas is a popular destination for clubgoers looking for a high-energy dance experience.\n",
      "3. Le Belmont: This historic dance hall in the Plateau Mont-Royal neighborhood has been a staple of Montreal's nightlife scene since the 1950s. Le Belmont is known for its retro vibe and its eclectic music programming, which includes everything from rock to electronic music to reggae.\n",
      "4. Le Ritz PDB: Located in the Plateau Mont-Royal neighborhood, Le Ritz PDB is a popular destination for indie rock and alternative music fans. The club has multiple rooms, each with its unique atmosphere, and a reputation for hosting great live shows and DJ sets.\n",
      "5. Club Unia: This massive nightclub in the Mile End neighborhood is a favorite among Montreal's LGBTQ+ community. With multiple rooms, a spacious dance floor, and a diverse music programming, Club Unia is a welcoming and inclusive space for all.\n",
      "6. La Sala Rossa: Located in the Plateau Mont-Royal neighborhood, La Sala Rossa is a popular live music venue that also hosts occasional DJ nights. The club is known for its intimate atmosphere and its commitment to showcasing local and international talent across a range of genres.\n",
      "7. Cabaret Mado: This burlesque cabaret in the Plateau Mont-Royal neighborhood is a unique and entertaining nightlife experience. With live music, dancing, and burlesque performances, Cabaret Mado is a great option\n"
     ]
    }
   ],
   "source": [
    "text = 'Can you suggest top 10 night clubs to go to be in Montreal?'\n",
    "print(llm.invoke(text))"
   ]
  },
  {
   "cell_type": "markdown",
   "metadata": {},
   "source": [
    "### Langchain with Gemini API\n",
    "(NOT WORKING)"
   ]
  },
  {
   "cell_type": "code",
   "execution_count": 4,
   "metadata": {},
   "outputs": [],
   "source": [
    "GOOGLE_API_KEY = os.getenv('GOOGLE_API_KEY')"
   ]
  },
  {
   "cell_type": "code",
   "execution_count": 13,
   "metadata": {},
   "outputs": [],
   "source": [
    "from langchain_google_genai.chat_models import ChatGoogleGenerativeAI"
   ]
  },
  {
   "cell_type": "code",
   "execution_count": 14,
   "metadata": {},
   "outputs": [],
   "source": [
    "llm = ChatGoogleGenerativeAI(model='gemini-pro',google_api_key=GOOGLE_API_KEY)"
   ]
  },
  {
   "cell_type": "code",
   "execution_count": 15,
   "metadata": {},
   "outputs": [],
   "source": [
    "# from langchain_google_genai import ChatGoogleGenerativeAI\n",
    "# chat = ChatGoogleGenerativeAI(model=\"gemini-pro\",google_api_key=GOOGLE_API_KEY)\n",
    "# print(chat.invoke(\"Write me a ballad about LangChain\").content)"
   ]
  },
  {
   "cell_type": "code",
   "execution_count": 17,
   "metadata": {},
   "outputs": [],
   "source": [
    "# text = 'What are the best ways to go to Montreal? Also, could you suggest best patio restaurants for lunch'\n",
    "\n",
    "# llm(text)"
   ]
  },
  {
   "cell_type": "markdown",
   "metadata": {},
   "source": [
    "### Langchain with OPENAI API"
   ]
  },
  {
   "cell_type": "code",
   "execution_count": 2,
   "metadata": {},
   "outputs": [],
   "source": [
    "OPENAI_API_KEY = os.getenv('OPENAI_API_KEY')"
   ]
  },
  {
   "cell_type": "code",
   "execution_count": 3,
   "metadata": {},
   "outputs": [],
   "source": [
    "import openai"
   ]
  },
  {
   "cell_type": "code",
   "execution_count": 4,
   "metadata": {},
   "outputs": [],
   "source": [
    "from langchain_openai import OpenAI"
   ]
  },
  {
   "cell_type": "code",
   "execution_count": 5,
   "metadata": {},
   "outputs": [],
   "source": [
    "llm = OpenAI()"
   ]
  },
  {
   "cell_type": "code",
   "execution_count": 7,
   "metadata": {},
   "outputs": [
    {
     "name": "stdout",
     "output_type": "stream",
     "text": [
      "\n",
      "\n",
      "Montreal is the largest city in the province of Quebec, Canada and is known for its vibrant culture, historic architecture, and delicious food. It is also a bilingual city, with French being the official language.\n",
      "\n",
      "Some of the top attractions in Montreal include:\n",
      "\n",
      "1. Old Montreal: This historic district is filled with cobblestone streets, charming cafes, and beautiful architecture. It is a great place to stroll around and soak in the city's European charm.\n",
      "\n",
      "2. Mount Royal: This park offers stunning views of the city and is a popular spot for hiking, picnicking, and outdoor activities.\n",
      "\n",
      "3. Notre-Dame Basilica: One of the most iconic landmarks in Montreal, this stunning basilica features intricate Gothic Revival architecture and is a must-visit for its beautiful interior.\n",
      "\n",
      "4. Montreal Botanical Garden: With over 22,000 species of plants, this garden is a paradise for nature lovers. It also has a butterfly exhibit and a Chinese garden.\n",
      "\n",
      "5. Plateau Mont-Royal: This trendy neighborhood is known for its colorful street art, independent boutiques, and hip restaurants.\n",
      "\n",
      "As for hotels, some highly-rated options in Montreal are:\n",
      "\n",
      "1. Fairmont The Queen Elizabeth: This luxury hotel is located in the heart of downtown and offers elegant\n"
     ]
    }
   ],
   "source": [
    "text = \"Can you tell me about Montreal? Suggest me best hotels there\"\n",
    "print(llm.invoke(text))"
   ]
  },
  {
   "cell_type": "code",
   "execution_count": null,
   "metadata": {},
   "outputs": [],
   "source": []
  }
 ],
 "metadata": {
  "interpreter": {
   "hash": "56e47ff0e0c32ef85f561c11fcd4422d5128ea5660ec7f3b7fecfe3e1320b673"
  },
  "kernelspec": {
   "display_name": "Python 3.9.18",
   "language": "python",
   "name": "python3"
  },
  "language_info": {
   "codemirror_mode": {
    "name": "ipython",
    "version": 3
   },
   "file_extension": ".py",
   "mimetype": "text/x-python",
   "name": "python",
   "nbconvert_exporter": "python",
   "pygments_lexer": "ipython3",
   "version": "3.11.7"
  },
  "orig_nbformat": 4
 },
 "nbformat": 4,
 "nbformat_minor": 2
}
